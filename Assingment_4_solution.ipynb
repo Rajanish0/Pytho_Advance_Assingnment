{
 "cells": [
  {
   "cell_type": "code",
   "execution_count": 1,
   "id": "851e5def",
   "metadata": {},
   "outputs": [
    {
     "data": {
      "text/plain": [
       "[3, 6, 9]"
      ]
     },
     "execution_count": 1,
     "metadata": {},
     "output_type": "execute_result"
    }
   ],
   "source": [
    "# Q1\n",
    "def list_operation(x,y,n):\n",
    "    L=[]\n",
    "    for i in range(x,y):\n",
    "        if i%n==0:\n",
    "            L.append(i)\n",
    "        else:\n",
    "            pass\n",
    "    return L\n",
    "list_operation(1,10,3)"
   ]
  },
  {
   "cell_type": "code",
   "execution_count": 2,
   "id": "858fc443",
   "metadata": {},
   "outputs": [
    {
     "data": {
      "text/plain": [
       "[8]"
      ]
     },
     "execution_count": 2,
     "metadata": {},
     "output_type": "execute_result"
    }
   ],
   "source": [
    "list_operation(7,9,2)"
   ]
  },
  {
   "cell_type": "code",
   "execution_count": 3,
   "id": "7a20f125",
   "metadata": {},
   "outputs": [
    {
     "data": {
      "text/plain": [
       "[]"
      ]
     },
     "execution_count": 3,
     "metadata": {},
     "output_type": "execute_result"
    }
   ],
   "source": [
    "list_operation(15,20,7)"
   ]
  },
  {
   "cell_type": "code",
   "execution_count": 8,
   "id": "4c5ae659",
   "metadata": {},
   "outputs": [],
   "source": [
    "# Q2\n",
    "def simon_says(L1,L2):\n",
    "    for i in range(len(L1)):\n",
    "        if L1[i]==L2[i+1]:\n",
    "            return True\n",
    "        else:\n",
    "            return False"
   ]
  },
  {
   "cell_type": "code",
   "execution_count": 9,
   "id": "6542b827",
   "metadata": {},
   "outputs": [
    {
     "data": {
      "text/plain": [
       "True"
      ]
     },
     "execution_count": 9,
     "metadata": {},
     "output_type": "execute_result"
    }
   ],
   "source": [
    "a=[1,2]\n",
    "b=[5,1]\n",
    "simon_says(a,b)    "
   ]
  },
  {
   "cell_type": "code",
   "execution_count": 10,
   "id": "e090fc0a",
   "metadata": {},
   "outputs": [
    {
     "data": {
      "text/plain": [
       "False"
      ]
     },
     "execution_count": 10,
     "metadata": {},
     "output_type": "execute_result"
    }
   ],
   "source": [
    "a=[1,2]\n",
    "b=[5,5]\n",
    "simon_says(a,b) "
   ]
  },
  {
   "cell_type": "code",
   "execution_count": 11,
   "id": "5805dbda",
   "metadata": {},
   "outputs": [
    {
     "data": {
      "text/plain": [
       "True"
      ]
     },
     "execution_count": 11,
     "metadata": {},
     "output_type": "execute_result"
    }
   ],
   "source": [
    "a=[1,2,3,4,5]\n",
    "b=[0,1,2,3,4]\n",
    "simon_says(a,b) "
   ]
  },
  {
   "cell_type": "code",
   "execution_count": 12,
   "id": "c5e9fa76",
   "metadata": {},
   "outputs": [
    {
     "data": {
      "text/plain": [
       "False"
      ]
     },
     "execution_count": 12,
     "metadata": {},
     "output_type": "execute_result"
    }
   ],
   "source": [
    "a=[1,2,3,4,5]\n",
    "b=[5,5,1,2,3]\n",
    "simon_says(a,b) "
   ]
  },
  {
   "cell_type": "code",
   "execution_count": 82,
   "id": "74d00daa",
   "metadata": {},
   "outputs": [
    {
     "data": {
      "text/plain": [
       "'AMS'"
      ]
     },
     "execution_count": 82,
     "metadata": {},
     "output_type": "execute_result"
    }
   ],
   "source": [
    "#Q3\n",
    "def society_name(L):\n",
    "    m=''\n",
    "    for i in sorted(L):\n",
    "        m+=i[0]\n",
    "    return m\n",
    "a=['Adam','Sarah','Malcolm']\n",
    "society_name(a)"
   ]
  },
  {
   "cell_type": "code",
   "execution_count": 83,
   "id": "fe755191",
   "metadata": {},
   "outputs": [
    {
     "data": {
      "text/plain": [
       "'AMS'"
      ]
     },
     "execution_count": 83,
     "metadata": {},
     "output_type": "execute_result"
    }
   ],
   "source": [
    "a=['Adam','Sarah','Malcolm']\n",
    "society_name(a)"
   ]
  },
  {
   "cell_type": "code",
   "execution_count": 86,
   "id": "37fb4452",
   "metadata": {},
   "outputs": [
    {
     "data": {
      "text/plain": [
       "'CHLN'"
      ]
     },
     "execution_count": 86,
     "metadata": {},
     "output_type": "execute_result"
    }
   ],
   "source": [
    "a=['Harry','Neut','Luna','Cho']\n",
    "society_name(a)"
   ]
  },
  {
   "cell_type": "code",
   "execution_count": 3,
   "id": "1b1934cb",
   "metadata": {},
   "outputs": [
    {
     "data": {
      "text/plain": [
       "True"
      ]
     },
     "execution_count": 3,
     "metadata": {},
     "output_type": "execute_result"
    }
   ],
   "source": [
    "#Q4\n",
    "def is_isogram(x):\n",
    "    for i in range(len(x)):\n",
    "        if x.count(x[i])<2:\n",
    "            continue\n",
    "        else:\n",
    "            return False\n",
    "    return True\n",
    "\n",
    "is_isogram('Alogrim')"
   ]
  },
  {
   "cell_type": "code",
   "execution_count": 10,
   "id": "0067cf5a",
   "metadata": {},
   "outputs": [
    {
     "data": {
      "text/plain": [
       "True"
      ]
     },
     "execution_count": 10,
     "metadata": {},
     "output_type": "execute_result"
    }
   ],
   "source": [
    "is_isogram('Pasword')"
   ]
  },
  {
   "cell_type": "code",
   "execution_count": 18,
   "id": "c12ed9f1",
   "metadata": {},
   "outputs": [
    {
     "data": {
      "text/plain": [
       "False"
      ]
     },
     "execution_count": 18,
     "metadata": {},
     "output_type": "execute_result"
    }
   ],
   "source": [
    "is_isogram('consuctive')"
   ]
  },
  {
   "cell_type": "code",
   "execution_count": 72,
   "id": "603e4106",
   "metadata": {},
   "outputs": [
    {
     "data": {
      "text/plain": [
       "True"
      ]
     },
     "execution_count": 72,
     "metadata": {},
     "output_type": "execute_result"
    }
   ],
   "source": [
    "# Q5\n",
    "def is_in_order(x):\n",
    "    if sorted(list(x))==list(x):\n",
    "        return True\n",
    "    else:\n",
    "        return False\n",
    "is_in_order('abc')"
   ]
  },
  {
   "cell_type": "code",
   "execution_count": 73,
   "id": "3e815939",
   "metadata": {},
   "outputs": [
    {
     "data": {
      "text/plain": [
       "False"
      ]
     },
     "execution_count": 73,
     "metadata": {},
     "output_type": "execute_result"
    }
   ],
   "source": [
    "is_in_order('edabit')"
   ]
  },
  {
   "cell_type": "code",
   "execution_count": 74,
   "id": "229952dc",
   "metadata": {},
   "outputs": [
    {
     "data": {
      "text/plain": [
       "True"
      ]
     },
     "execution_count": 74,
     "metadata": {},
     "output_type": "execute_result"
    }
   ],
   "source": [
    "is_in_order('123')"
   ]
  },
  {
   "cell_type": "code",
   "execution_count": 75,
   "id": "e7241f89",
   "metadata": {},
   "outputs": [
    {
     "data": {
      "text/plain": [
       "True"
      ]
     },
     "execution_count": 75,
     "metadata": {},
     "output_type": "execute_result"
    }
   ],
   "source": [
    "is_in_order('xyzz')"
   ]
  },
  {
   "cell_type": "code",
   "execution_count": null,
   "id": "df2376a0",
   "metadata": {},
   "outputs": [],
   "source": []
  },
  {
   "cell_type": "code",
   "execution_count": null,
   "id": "377b0adf",
   "metadata": {},
   "outputs": [],
   "source": []
  },
  {
   "cell_type": "code",
   "execution_count": null,
   "id": "b95e8ed1",
   "metadata": {},
   "outputs": [],
   "source": []
  },
  {
   "cell_type": "code",
   "execution_count": null,
   "id": "26612ea1",
   "metadata": {},
   "outputs": [],
   "source": []
  },
  {
   "cell_type": "code",
   "execution_count": null,
   "id": "8c99663f",
   "metadata": {},
   "outputs": [],
   "source": []
  },
  {
   "cell_type": "code",
   "execution_count": null,
   "id": "5183540e",
   "metadata": {},
   "outputs": [],
   "source": []
  },
  {
   "cell_type": "code",
   "execution_count": null,
   "id": "c9d4a3d2",
   "metadata": {},
   "outputs": [],
   "source": []
  },
  {
   "cell_type": "code",
   "execution_count": null,
   "id": "04000d3f",
   "metadata": {},
   "outputs": [],
   "source": []
  },
  {
   "cell_type": "code",
   "execution_count": null,
   "id": "e468c426",
   "metadata": {},
   "outputs": [],
   "source": []
  },
  {
   "cell_type": "code",
   "execution_count": null,
   "id": "7d8a6285",
   "metadata": {},
   "outputs": [],
   "source": []
  }
 ],
 "metadata": {
  "kernelspec": {
   "display_name": "Python 3 (ipykernel)",
   "language": "python",
   "name": "python3"
  },
  "language_info": {
   "codemirror_mode": {
    "name": "ipython",
    "version": 3
   },
   "file_extension": ".py",
   "mimetype": "text/x-python",
   "name": "python",
   "nbconvert_exporter": "python",
   "pygments_lexer": "ipython3",
   "version": "3.10.9"
  }
 },
 "nbformat": 4,
 "nbformat_minor": 5
}
