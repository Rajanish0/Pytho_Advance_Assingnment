{
 "cells": [
  {
   "cell_type": "code",
   "execution_count": 1,
   "id": "c229b772",
   "metadata": {},
   "outputs": [],
   "source": [
    "# Q1\n",
    "def double_char(x):\n",
    "    l=[]\n",
    "    for i in x:\n",
    "        l.append(2*i)\n",
    "    return ''.join(l)"
   ]
  },
  {
   "cell_type": "code",
   "execution_count": 11,
   "id": "9ede0ae9",
   "metadata": {},
   "outputs": [
    {
     "data": {
      "text/plain": [
       "'SSttrriinngg  iiss'"
      ]
     },
     "execution_count": 11,
     "metadata": {},
     "output_type": "execute_result"
    }
   ],
   "source": [
    "double_char('String is')"
   ]
  },
  {
   "cell_type": "code",
   "execution_count": 15,
   "id": "be959049",
   "metadata": {},
   "outputs": [
    {
     "data": {
      "text/plain": [
       "False"
      ]
     },
     "execution_count": 15,
     "metadata": {},
     "output_type": "execute_result"
    }
   ],
   "source": [
    "# Q2\n",
    "def reverse(x):\n",
    "    if x==True:\n",
    "        return False\n",
    "    elif x==False:\n",
    "        return True\n",
    "    else:\n",
    "        return 'boolean expected'\n",
    "reverse(True)"
   ]
  },
  {
   "cell_type": "code",
   "execution_count": 16,
   "id": "c455fa4e",
   "metadata": {},
   "outputs": [
    {
     "data": {
      "text/plain": [
       "True"
      ]
     },
     "execution_count": 16,
     "metadata": {},
     "output_type": "execute_result"
    }
   ],
   "source": [
    "reverse(False)"
   ]
  },
  {
   "cell_type": "code",
   "execution_count": 17,
   "id": "61d1e5bc",
   "metadata": {},
   "outputs": [
    {
     "data": {
      "text/plain": [
       "'boolean expected'"
      ]
     },
     "execution_count": 17,
     "metadata": {},
     "output_type": "execute_result"
    }
   ],
   "source": [
    "reverse(\"True\")"
   ]
  },
  {
   "cell_type": "code",
   "execution_count": 18,
   "id": "19c7c275",
   "metadata": {},
   "outputs": [
    {
     "data": {
      "text/plain": [
       "'boolean expected'"
      ]
     },
     "execution_count": 18,
     "metadata": {},
     "output_type": "execute_result"
    }
   ],
   "source": [
    "reverse(2)"
   ]
  },
  {
   "cell_type": "code",
   "execution_count": 16,
   "id": "833a1af7",
   "metadata": {},
   "outputs": [
    {
     "data": {
      "text/plain": [
       "(1048.576, 1048576)"
      ]
     },
     "execution_count": 16,
     "metadata": {},
     "output_type": "execute_result"
    }
   ],
   "source": [
    "#Q3 \n",
    "def num_layer(x):\n",
    "    t_m=0.5*2**x/1000\n",
    "    return t_m , round(t_m*1000)\n",
    "num_layer(21)"
   ]
  },
  {
   "cell_type": "code",
   "execution_count": 20,
   "id": "c5be4ecb",
   "metadata": {},
   "outputs": [
    {
     "data": {
      "text/plain": [
       "(0.001, 1)"
      ]
     },
     "execution_count": 20,
     "metadata": {},
     "output_type": "execute_result"
    }
   ],
   "source": [
    "num_layer(1)"
   ]
  },
  {
   "cell_type": "code",
   "execution_count": 8,
   "id": "33d45fcd",
   "metadata": {},
   "outputs": [
    {
     "data": {
      "text/plain": [
       "(0.008, 8)"
      ]
     },
     "execution_count": 8,
     "metadata": {},
     "output_type": "execute_result"
    }
   ],
   "source": [
    "num_layer(4)"
   ]
  },
  {
   "cell_type": "code",
   "execution_count": 51,
   "id": "e8f056b4",
   "metadata": {},
   "outputs": [
    {
     "data": {
      "text/plain": [
       "[1]"
      ]
     },
     "execution_count": 51,
     "metadata": {},
     "output_type": "execute_result"
    }
   ],
   "source": [
    "# Q4\n",
    "L=[]\n",
    "def index_of_cap(x):\n",
    "    for i in x:\n",
    "        if i.isupper():\n",
    "            L.append(x.index(i))\n",
    "        else:\n",
    "            pass\n",
    "    return L\n",
    "index_of_cap('sUn')"
   ]
  },
  {
   "cell_type": "code",
   "execution_count": 52,
   "id": "b9b67368",
   "metadata": {},
   "outputs": [
    {
     "data": {
      "text/plain": [
       "[1, 0, 1, 2, 3, 4, 5]"
      ]
     },
     "execution_count": 52,
     "metadata": {},
     "output_type": "execute_result"
    }
   ],
   "source": [
    "index_of_cap('STRIKE')"
   ]
  },
  {
   "cell_type": "code",
   "execution_count": 53,
   "id": "71042b84",
   "metadata": {},
   "outputs": [
    {
     "data": {
      "text/plain": [
       "[1, 0, 1, 2, 3, 4, 5]"
      ]
     },
     "execution_count": 53,
     "metadata": {},
     "output_type": "execute_result"
    }
   ],
   "source": [
    "index_of_cap('determine')"
   ]
  },
  {
   "cell_type": "code",
   "execution_count": 59,
   "id": "ac957cc8",
   "metadata": {},
   "outputs": [],
   "source": [
    "#Q5\n",
    "def find_even(x):\n",
    "    L=[i for i in range(1,x+1) if i%2==0]\n",
    "\n",
    "    return L"
   ]
  },
  {
   "cell_type": "code",
   "execution_count": 56,
   "id": "171995a2",
   "metadata": {},
   "outputs": [
    {
     "data": {
      "text/plain": [
       "[2, 4, 6, 8]"
      ]
     },
     "execution_count": 56,
     "metadata": {},
     "output_type": "execute_result"
    }
   ],
   "source": [
    "find_even(8)"
   ]
  },
  {
   "cell_type": "code",
   "execution_count": 57,
   "id": "105a84b7",
   "metadata": {},
   "outputs": [
    {
     "data": {
      "text/plain": [
       "[2, 4]"
      ]
     },
     "execution_count": 57,
     "metadata": {},
     "output_type": "execute_result"
    }
   ],
   "source": [
    "find_even(4)"
   ]
  },
  {
   "cell_type": "code",
   "execution_count": 58,
   "id": "f441c742",
   "metadata": {},
   "outputs": [
    {
     "data": {
      "text/plain": [
       "[2]"
      ]
     },
     "execution_count": 58,
     "metadata": {},
     "output_type": "execute_result"
    }
   ],
   "source": [
    "find_even(2)"
   ]
  },
  {
   "cell_type": "code",
   "execution_count": null,
   "id": "e4735027",
   "metadata": {},
   "outputs": [],
   "source": []
  },
  {
   "cell_type": "code",
   "execution_count": null,
   "id": "f74330d7",
   "metadata": {},
   "outputs": [],
   "source": []
  },
  {
   "cell_type": "code",
   "execution_count": null,
   "id": "6772287d",
   "metadata": {},
   "outputs": [],
   "source": []
  }
 ],
 "metadata": {
  "kernelspec": {
   "display_name": "Python 3 (ipykernel)",
   "language": "python",
   "name": "python3"
  },
  "language_info": {
   "codemirror_mode": {
    "name": "ipython",
    "version": 3
   },
   "file_extension": ".py",
   "mimetype": "text/x-python",
   "name": "python",
   "nbconvert_exporter": "python",
   "pygments_lexer": "ipython3",
   "version": "3.10.9"
  }
 },
 "nbformat": 4,
 "nbformat_minor": 5
}
