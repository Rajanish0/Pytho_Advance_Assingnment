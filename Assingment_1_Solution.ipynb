{
 "cells": [
  {
   "cell_type": "code",
   "execution_count": 68,
   "id": "d33035c3",
   "metadata": {},
   "outputs": [
    {
     "name": "stdout",
     "output_type": "stream",
     "text": [
      "Enter the Value1\n",
      "Enter the Value1\n",
      "Enter the Value2\n",
      "2\n"
     ]
    }
   ],
   "source": [
    "# Q1\n",
    "def equal(x,y,z):\n",
    "    if x==y and x==z:\n",
    "        print(\"3\")\n",
    "    elif x==y and y!=z:\n",
    "        print(\"2\")\n",
    "    elif x!=y and y==z:\n",
    "        print(\"2\")\n",
    "    elif x!=y and y!=z and x==z:\n",
    "        print(\"2\")\n",
    "    elif x!=z and y==x:\n",
    "        print(\"2\")\n",
    "    elif x!=y and y!=z and z!=x:\n",
    "        print(\"0\")\n",
    "a=int(input(\"Enter the Value\"))\n",
    "b=int(input(\"Enter the Value\"))\n",
    "c=int(input(\"Enter the Value\"))\n",
    "equal(a,b,c)"
   ]
  },
  {
   "cell_type": "code",
   "execution_count": 70,
   "id": "2b6b6eba",
   "metadata": {},
   "outputs": [
    {
     "data": {
      "text/plain": [
       "3"
      ]
     },
     "execution_count": 70,
     "metadata": {},
     "output_type": "execute_result"
    }
   ],
   "source": [
    "# Q1 \n",
    "def equal1(x,y,z):\n",
    "    n=0\n",
    "    if x==y==z:\n",
    "        n=3\n",
    "    elif x!=y==z or x==z!=y:\n",
    "        n=2\n",
    "    else:\n",
    "        n=0\n",
    "    return n\n",
    "equal1(1,1,1)"
   ]
  },
  {
   "cell_type": "code",
   "execution_count": 72,
   "id": "ecea63c0",
   "metadata": {},
   "outputs": [
    {
     "data": {
      "text/plain": [
       "[('A', 1), ('B', 2), ('C', 3)]"
      ]
     },
     "execution_count": 72,
     "metadata": {},
     "output_type": "execute_result"
    }
   ],
   "source": [
    "# Q2\n",
    "d={\"A\":1,'B':2,\"C\":3}\n",
    "# output must in [(A,1),(B,2),(C,3)]\n",
    "def dict_to_list(d):\n",
    "    return list(d.items())\n",
    "dict_to_list(d)"
   ]
  },
  {
   "cell_type": "code",
   "execution_count": 74,
   "id": "c24d6bfc",
   "metadata": {},
   "outputs": [
    {
     "data": {
      "text/plain": [
       "{'a': 'A', 'b': 'B', 'c': 'C', 'd': 'D', 'e': 'E', 'f': 'F'}"
      ]
     },
     "execution_count": 74,
     "metadata": {},
     "output_type": "execute_result"
    }
   ],
   "source": [
    "# Q3\n",
    "L1=[]\n",
    "L=['a','b','c','d','e','f']\n",
    "def mapping():\n",
    "    for i in L:\n",
    "        l=(i,i.upper())\n",
    "        L1.append(l)\n",
    "    return dict(L1)\n",
    "mapping()"
   ]
  },
  {
   "cell_type": "code",
   "execution_count": 75,
   "id": "27f74db7",
   "metadata": {},
   "outputs": [
    {
     "data": {
      "text/plain": [
       "'opplo Boll os'"
      ]
     },
     "execution_count": 75,
     "metadata": {},
     "output_type": "execute_result"
    }
   ],
   "source": [
    "# Q4\n",
    "def vow_replace(x,cha):\n",
    "    L=[]\n",
    "    j='aeiouAEIoU'\n",
    "    for i in x :\n",
    "        if i in j:\n",
    "            L.append(cha) \n",
    "        else:\n",
    "            L.append(i)\n",
    "    return \"\".join(L)\n",
    "vow_replace('apple Boll Is','o')"
   ]
  },
  {
   "cell_type": "code",
   "execution_count": 76,
   "id": "f24b34df",
   "metadata": {},
   "outputs": [
    {
     "data": {
      "text/plain": [
       "'To Be oR NoT To Be!'"
      ]
     },
     "execution_count": 76,
     "metadata": {},
     "output_type": "execute_result"
    }
   ],
   "source": [
    "# Q5\n",
    "def ascii_capitalize(x):\n",
    "    L=[]\n",
    "    for i in x:\n",
    "        if ord(i)%2==0:\n",
    "            j=i.upper()\n",
    "            L.append(j)\n",
    "        else:\n",
    "            j=i.lower()\n",
    "            L.append(j)\n",
    "    return \"\".join(L)\n",
    "ascii_capitalize('to be or not to be!')"
   ]
  },
  {
   "cell_type": "code",
   "execution_count": null,
   "id": "7b9ffd3e",
   "metadata": {},
   "outputs": [],
   "source": []
  },
  {
   "cell_type": "code",
   "execution_count": null,
   "id": "cf5bfaae",
   "metadata": {},
   "outputs": [],
   "source": []
  },
  {
   "cell_type": "code",
   "execution_count": null,
   "id": "91c1a7b1",
   "metadata": {},
   "outputs": [],
   "source": []
  },
  {
   "cell_type": "code",
   "execution_count": null,
   "id": "9bb706b1",
   "metadata": {},
   "outputs": [],
   "source": []
  },
  {
   "cell_type": "code",
   "execution_count": null,
   "id": "34eeb5c9",
   "metadata": {},
   "outputs": [],
   "source": []
  },
  {
   "cell_type": "code",
   "execution_count": null,
   "id": "8cac80dd",
   "metadata": {},
   "outputs": [],
   "source": []
  },
  {
   "cell_type": "code",
   "execution_count": null,
   "id": "fa708f4b",
   "metadata": {},
   "outputs": [],
   "source": []
  },
  {
   "cell_type": "code",
   "execution_count": null,
   "id": "1f7318b2",
   "metadata": {},
   "outputs": [],
   "source": []
  },
  {
   "cell_type": "code",
   "execution_count": null,
   "id": "0d557e13",
   "metadata": {},
   "outputs": [],
   "source": []
  },
  {
   "cell_type": "code",
   "execution_count": null,
   "id": "90f9f2d5",
   "metadata": {},
   "outputs": [],
   "source": []
  },
  {
   "cell_type": "code",
   "execution_count": null,
   "id": "b46d9783",
   "metadata": {},
   "outputs": [],
   "source": []
  }
 ],
 "metadata": {
  "kernelspec": {
   "display_name": "Python 3 (ipykernel)",
   "language": "python",
   "name": "python3"
  },
  "language_info": {
   "codemirror_mode": {
    "name": "ipython",
    "version": 3
   },
   "file_extension": ".py",
   "mimetype": "text/x-python",
   "name": "python",
   "nbconvert_exporter": "python",
   "pygments_lexer": "ipython3",
   "version": "3.10.9"
  }
 },
 "nbformat": 4,
 "nbformat_minor": 5
}
