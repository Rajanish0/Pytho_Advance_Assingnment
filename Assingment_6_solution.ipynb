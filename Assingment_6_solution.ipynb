{
 "cells": [
  {
   "cell_type": "code",
   "execution_count": 1,
   "id": "f7e391e2",
   "metadata": {},
   "outputs": [],
   "source": [
    "# Q1\n",
    "def filter_list(L):\n",
    "    L1=[]\n",
    "    for i in L:\n",
    "        if type(i)==int:\n",
    "            L1.append(i)\n",
    "    return L1\n",
    "            "
   ]
  },
  {
   "cell_type": "code",
   "execution_count": 3,
   "id": "6c561877",
   "metadata": {},
   "outputs": [
    {
     "data": {
      "text/plain": [
       "[1, 2, 3, 4]"
      ]
     },
     "execution_count": 3,
     "metadata": {},
     "output_type": "execute_result"
    }
   ],
   "source": [
    "filter_list([1,2,3,'a','b',4])"
   ]
  },
  {
   "cell_type": "code",
   "execution_count": 5,
   "id": "5cff5be2",
   "metadata": {},
   "outputs": [
    {
     "data": {
      "text/plain": [
       "[0, 1729]"
      ]
     },
     "execution_count": 5,
     "metadata": {},
     "output_type": "execute_result"
    }
   ],
   "source": [
    "filter_list(['A',0,'Edabit',1729,'python',\"1729\"])"
   ]
  },
  {
   "cell_type": "code",
   "execution_count": 6,
   "id": "cd3e6fe4",
   "metadata": {},
   "outputs": [
    {
     "data": {
      "text/plain": [
       "[]"
      ]
     },
     "execution_count": 6,
     "metadata": {},
     "output_type": "execute_result"
    }
   ],
   "source": [
    "filter_list(['nothing','here'])"
   ]
  },
  {
   "cell_type": "code",
   "execution_count": 27,
   "id": "0ce33aad",
   "metadata": {},
   "outputs": [],
   "source": [
    "# Q2\n",
    "def add_indexes(L):\n",
    "    L1=[]\n",
    "    for i in range(len(L)):\n",
    "        q=L[i]+i\n",
    "        L1.append(q)\n",
    "    return L1"
   ]
  },
  {
   "cell_type": "code",
   "execution_count": 28,
   "id": "8423568c",
   "metadata": {},
   "outputs": [
    {
     "data": {
      "text/plain": [
       "[1, 3, 5, 7, 9]"
      ]
     },
     "execution_count": 28,
     "metadata": {},
     "output_type": "execute_result"
    }
   ],
   "source": [
    "add_indexes([1,2,3,4,5])"
   ]
  },
  {
   "cell_type": "code",
   "execution_count": 29,
   "id": "35f66656",
   "metadata": {},
   "outputs": [
    {
     "data": {
      "text/plain": [
       "[1, 2, 3, 4, 5]"
      ]
     },
     "execution_count": 29,
     "metadata": {},
     "output_type": "execute_result"
    }
   ],
   "source": [
    "add_indexes([1,1,1,1,1])"
   ]
  },
  {
   "cell_type": "code",
   "execution_count": 30,
   "id": "32711e08",
   "metadata": {},
   "outputs": [
    {
     "data": {
      "text/plain": [
       "[0, 1, 2, 3, 4]"
      ]
     },
     "execution_count": 30,
     "metadata": {},
     "output_type": "execute_result"
    }
   ],
   "source": [
    "add_indexes([0,0,0,0,0])"
   ]
  },
  {
   "cell_type": "code",
   "execution_count": 31,
   "id": "40da0d2e",
   "metadata": {},
   "outputs": [
    {
     "data": {
      "text/plain": [
       "[5, 5, 5, 5, 5]"
      ]
     },
     "execution_count": 31,
     "metadata": {},
     "output_type": "execute_result"
    }
   ],
   "source": [
    "add_indexes([5,4,3,2,1])"
   ]
  },
  {
   "cell_type": "code",
   "execution_count": 42,
   "id": "fb527895",
   "metadata": {},
   "outputs": [
    {
     "data": {
      "text/plain": [
       "12.57"
      ]
     },
     "execution_count": 42,
     "metadata": {},
     "output_type": "execute_result"
    }
   ],
   "source": [
    "#Q3\n",
    "import math\n",
    "pi=math.pi\n",
    "def cone_volume(h,r):\n",
    "    v=(1/3)*pi*(r**2)*h\n",
    "    return round(v,2)\n",
    "cone_volume(3,2)"
   ]
  },
  {
   "cell_type": "code",
   "execution_count": 43,
   "id": "96c8a947",
   "metadata": {},
   "outputs": [
    {
     "data": {
      "text/plain": [
       "565.49"
      ]
     },
     "execution_count": 43,
     "metadata": {},
     "output_type": "execute_result"
    }
   ],
   "source": [
    "cone_volume(15,6)"
   ]
  },
  {
   "cell_type": "code",
   "execution_count": 44,
   "id": "1988d131",
   "metadata": {},
   "outputs": [
    {
     "data": {
      "text/plain": [
       "0.0"
      ]
     },
     "execution_count": 44,
     "metadata": {},
     "output_type": "execute_result"
    }
   ],
   "source": [
    "cone_volume(18,0)"
   ]
  },
  {
   "cell_type": "code",
   "execution_count": 2,
   "id": "ff3970f2",
   "metadata": {},
   "outputs": [
    {
     "data": {
      "text/plain": [
       "21"
      ]
     },
     "execution_count": 2,
     "metadata": {},
     "output_type": "execute_result"
    }
   ],
   "source": [
    "# Q4\n",
    "def triangle(x):\n",
    "    return round(x*(x+1)*0.5)\n",
    "triangle(6)"
   ]
  },
  {
   "cell_type": "code",
   "execution_count": 3,
   "id": "9292337c",
   "metadata": {},
   "outputs": [
    {
     "data": {
      "text/plain": [
       "23220"
      ]
     },
     "execution_count": 3,
     "metadata": {},
     "output_type": "execute_result"
    }
   ],
   "source": [
    "triangle(215)"
   ]
  },
  {
   "cell_type": "code",
   "execution_count": 4,
   "id": "b2d3e761",
   "metadata": {},
   "outputs": [
    {
     "data": {
      "text/plain": [
       "1"
      ]
     },
     "execution_count": 4,
     "metadata": {},
     "output_type": "execute_result"
    }
   ],
   "source": [
    "triangle(1)"
   ]
  },
  {
   "cell_type": "code",
   "execution_count": 45,
   "id": "b9eda79f",
   "metadata": {},
   "outputs": [
    {
     "data": {
      "text/plain": [
       "5"
      ]
     },
     "execution_count": 45,
     "metadata": {},
     "output_type": "execute_result"
    }
   ],
   "source": [
    "# Q5\n",
    "def missing_num(L):\n",
    "    total_sum=sum([i for i in range(1,11)])\n",
    "    return total_sum-sum(L)\n",
    "missing_num([1,2,3,4,6,7,8,9,10])"
   ]
  },
  {
   "cell_type": "code",
   "execution_count": 46,
   "id": "a9d74779",
   "metadata": {},
   "outputs": [
    {
     "data": {
      "text/plain": [
       "10"
      ]
     },
     "execution_count": 46,
     "metadata": {},
     "output_type": "execute_result"
    }
   ],
   "source": [
    "missing_num([7,2,3,6,5,9,1,4,8])"
   ]
  },
  {
   "cell_type": "code",
   "execution_count": 47,
   "id": "af05a737",
   "metadata": {},
   "outputs": [
    {
     "data": {
      "text/plain": [
       "7"
      ]
     },
     "execution_count": 47,
     "metadata": {},
     "output_type": "execute_result"
    }
   ],
   "source": [
    "missing_num([10,5,1,2,4,6,8,3,9])"
   ]
  },
  {
   "cell_type": "code",
   "execution_count": null,
   "id": "9be99497",
   "metadata": {},
   "outputs": [],
   "source": []
  }
 ],
 "metadata": {
  "kernelspec": {
   "display_name": "Python 3 (ipykernel)",
   "language": "python",
   "name": "python3"
  },
  "language_info": {
   "codemirror_mode": {
    "name": "ipython",
    "version": 3
   },
   "file_extension": ".py",
   "mimetype": "text/x-python",
   "name": "python",
   "nbconvert_exporter": "python",
   "pygments_lexer": "ipython3",
   "version": "3.10.9"
  }
 },
 "nbformat": 4,
 "nbformat_minor": 5
}
