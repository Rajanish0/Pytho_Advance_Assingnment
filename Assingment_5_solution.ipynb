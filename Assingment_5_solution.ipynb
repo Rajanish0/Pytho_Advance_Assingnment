{
 "cells": [
  {
   "cell_type": "code",
   "execution_count": 35,
   "id": "ad5080fa",
   "metadata": {},
   "outputs": [
    {
     "data": {
      "text/plain": [
       "[2, 5]"
      ]
     },
     "execution_count": 35,
     "metadata": {},
     "output_type": "execute_result"
    }
   ],
   "source": [
    "# Q1\n",
    "def next_in_line(L,n):\n",
    "    L.append(n)\n",
    "    L.remove(L[0])\n",
    "    if L==[]:\n",
    "        return \"No list has been Selected\"\n",
    "    else:\n",
    "        return L\n",
    "next_in_line([1,2],5)"
   ]
  },
  {
   "cell_type": "code",
   "execution_count": 27,
   "id": "0b1c8b2f",
   "metadata": {},
   "outputs": [
    {
     "data": {
      "text/plain": [
       "65700"
      ]
     },
     "execution_count": 27,
     "metadata": {},
     "output_type": "execute_result"
    }
   ],
   "source": [
    "#Q2\n",
    "def get_budget(L):\n",
    "    j=0\n",
    "    for i in L:\n",
    "        j+=i['budget']\n",
    "    return j\n",
    "get_budget(L)"
   ]
  },
  {
   "cell_type": "code",
   "execution_count": 19,
   "id": "b7e893b9",
   "metadata": {},
   "outputs": [],
   "source": [
    "L=[{'name':'john','age':21,'budget':23000},\n",
    "  {'name':'steve','age':32,'budget':40000},\n",
    "  {'name':'martin','age':16,'budget':2700}]"
   ]
  },
  {
   "cell_type": "code",
   "execution_count": 29,
   "id": "08fb1179",
   "metadata": {},
   "outputs": [],
   "source": [
    "m=[{'name':'john','age':21,'budget':29000},\n",
    "  {'name':'steve','age':32,'budget':32000},\n",
    "  {'name':'martin','age':16,'budget':1600}]"
   ]
  },
  {
   "cell_type": "code",
   "execution_count": 30,
   "id": "179023ca",
   "metadata": {},
   "outputs": [
    {
     "data": {
      "text/plain": [
       "62600"
      ]
     },
     "execution_count": 30,
     "metadata": {},
     "output_type": "execute_result"
    }
   ],
   "source": [
    "get_budget(m)"
   ]
  },
  {
   "cell_type": "code",
   "execution_count": 36,
   "id": "194b0f88",
   "metadata": {},
   "outputs": [],
   "source": [
    "# Q3\n",
    "def alphabet_soup(x):\n",
    "    l=[]\n",
    "    for i in x:\n",
    "        l.append(i)\n",
    "    return ''.join(sorted(l))\n"
   ]
  },
  {
   "cell_type": "code",
   "execution_count": 39,
   "id": "f6053de9",
   "metadata": {},
   "outputs": [
    {
     "data": {
      "text/plain": [
       "'ehllo'"
      ]
     },
     "execution_count": 39,
     "metadata": {},
     "output_type": "execute_result"
    }
   ],
   "source": [
    "alphabet_soup('hello')"
   ]
  },
  {
   "cell_type": "code",
   "execution_count": 40,
   "id": "0aa2ddcf",
   "metadata": {},
   "outputs": [
    {
     "data": {
      "text/plain": [
       "'abdeit'"
      ]
     },
     "execution_count": 40,
     "metadata": {},
     "output_type": "execute_result"
    }
   ],
   "source": [
    "alphabet_soup('edabit')"
   ]
  },
  {
   "cell_type": "code",
   "execution_count": 41,
   "id": "e94ed56c",
   "metadata": {},
   "outputs": [
    {
     "data": {
      "text/plain": [
       "'eegk'"
      ]
     },
     "execution_count": 41,
     "metadata": {},
     "output_type": "execute_result"
    }
   ],
   "source": [
    "alphabet_soup('geek')"
   ]
  },
  {
   "cell_type": "code",
   "execution_count": 42,
   "id": "361583fd",
   "metadata": {},
   "outputs": [
    {
     "data": {
      "text/plain": [
       "'acehkr'"
      ]
     },
     "execution_count": 42,
     "metadata": {},
     "output_type": "execute_result"
    }
   ],
   "source": [
    "alphabet_soup('hacker')     CI = P(1 + (r/12) )12t – P"
   ]
  },
  {
   "cell_type": "code",
   "execution_count": 57,
   "id": "76b7a3e7",
   "metadata": {},
   "outputs": [
    {
     "data": {
      "text/plain": [
       "18193.97"
      ]
     },
     "execution_count": 57,
     "metadata": {},
     "output_type": "execute_result"
    }
   ],
   "source": [
    "# Q4 \n",
    "def compound_interest(p,t,r,n):\n",
    "    i=p*(1+(r/n))**(n*t)\n",
    "    return round(i,2)\n",
    "compound_interest(10000,10,0.06,12)"
   ]
  },
  {
   "cell_type": "code",
   "execution_count": 58,
   "id": "45891a6c",
   "metadata": {},
   "outputs": [
    {
     "data": {
      "text/plain": [
       "105.0"
      ]
     },
     "execution_count": 58,
     "metadata": {},
     "output_type": "execute_result"
    }
   ],
   "source": [
    "compound_interest(100,1,0.05,1)"
   ]
  },
  {
   "cell_type": "code",
   "execution_count": 59,
   "id": "18a01508",
   "metadata": {},
   "outputs": [
    {
     "data": {
      "text/plain": [
       "15399.26"
      ]
     },
     "execution_count": 59,
     "metadata": {},
     "output_type": "execute_result"
    }
   ],
   "source": [
    "compound_interest(3500,15,0.1,4)"
   ]
  },
  {
   "cell_type": "code",
   "execution_count": 60,
   "id": "8e1050fd",
   "metadata": {},
   "outputs": [
    {
     "data": {
      "text/plain": [
       "2007316.26"
      ]
     },
     "execution_count": 60,
     "metadata": {},
     "output_type": "execute_result"
    }
   ],
   "source": [
    "compound_interest(100000,20,0.15,365)"
   ]
  },
  {
   "cell_type": "code",
   "execution_count": 92,
   "id": "29103d15",
   "metadata": {},
   "outputs": [
    {
     "data": {
      "text/plain": [
       "[9, 2, 16]"
      ]
     },
     "execution_count": 92,
     "metadata": {},
     "output_type": "execute_result"
    }
   ],
   "source": [
    "# Q5\n",
    "def return_only_integer(L):\n",
    "    l=[]\n",
    "    for i in L:\n",
    "        if type(i)==int:\n",
    "            l.append(i)\n",
    "        else:\n",
    "            pass\n",
    "    return l\n",
    "return_only_integer([9,2,'space','car','loin',16])"
   ]
  },
  {
   "cell_type": "code",
   "execution_count": 93,
   "id": "19a471ec",
   "metadata": {},
   "outputs": [
    {
     "data": {
      "text/plain": [
       "[81, 123]"
      ]
     },
     "execution_count": 93,
     "metadata": {},
     "output_type": "execute_result"
    }
   ],
   "source": [
    "return_only_integer(['hellow',81,'basketball',123,'fox'])"
   ]
  },
  {
   "cell_type": "code",
   "execution_count": 94,
   "id": "7c2d4081",
   "metadata": {},
   "outputs": [
    {
     "data": {
      "text/plain": [
       "[10, 56, 20, 3]"
      ]
     },
     "execution_count": 94,
     "metadata": {},
     "output_type": "execute_result"
    }
   ],
   "source": [
    "return_only_integer([10,'121',56,20,'car',3,'loin'])"
   ]
  },
  {
   "cell_type": "code",
   "execution_count": 95,
   "id": "7a075d60",
   "metadata": {},
   "outputs": [
    {
     "data": {
      "text/plain": [
       "[1]"
      ]
     },
     "execution_count": 95,
     "metadata": {},
     "output_type": "execute_result"
    }
   ],
   "source": [
    "return_only_integer(['string','True',3.3,1])"
   ]
  }
 ],
 "metadata": {
  "kernelspec": {
   "display_name": "Python 3 (ipykernel)",
   "language": "python",
   "name": "python3"
  },
  "language_info": {
   "codemirror_mode": {
    "name": "ipython",
    "version": 3
   },
   "file_extension": ".py",
   "mimetype": "text/x-python",
   "name": "python",
   "nbconvert_exporter": "python",
   "pygments_lexer": "ipython3",
   "version": "3.10.9"
  }
 },
 "nbformat": 4,
 "nbformat_minor": 5
}
