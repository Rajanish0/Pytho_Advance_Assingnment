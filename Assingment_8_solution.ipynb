{
 "cells": [
  {
   "cell_type": "code",
   "execution_count": 49,
   "id": "93c5e3d1",
   "metadata": {},
   "outputs": [],
   "source": [
    "# Q1\n",
    "def filter_list(L):\n",
    "    l=[]\n",
    "    for i in L:\n",
    "        if type(i)==int:\n",
    "            l.append(i)\n",
    "        else:\n",
    "            pass\n",
    "    return l"
   ]
  },
  {
   "cell_type": "code",
   "execution_count": 60,
   "id": "02fb1fbf",
   "metadata": {},
   "outputs": [
    {
     "data": {
      "text/plain": [
       "[1, 2, 123]"
      ]
     },
     "execution_count": 60,
     "metadata": {},
     "output_type": "execute_result"
    }
   ],
   "source": [
    "filter_list([1,2,'aasf','5','123',123])"
   ]
  },
  {
   "cell_type": "code",
   "execution_count": 55,
   "id": "1e73fa3e",
   "metadata": {},
   "outputs": [
    {
     "data": {
      "text/plain": [
       "[55, 1, 2, 99, 100]"
      ]
     },
     "execution_count": 55,
     "metadata": {},
     "output_type": "execute_result"
    }
   ],
   "source": [
    "filter_list(['777',55,1,2,',,,',99,100,'5'])"
   ]
  },
  {
   "cell_type": "code",
   "execution_count": 38,
   "id": "8bcf0ec1",
   "metadata": {},
   "outputs": [
    {
     "data": {
      "text/plain": [
       "'RAMUk HSINAJAr'"
      ]
     },
     "execution_count": 38,
     "metadata": {},
     "output_type": "execute_result"
    }
   ],
   "source": [
    "# Q2\n",
    "def reverse(l):\n",
    "    l1=l[::-1]\n",
    "    l2=l1.swapcase()\n",
    "    return l2\n",
    "reverse('Rajanish Kumar')"
   ]
  },
  {
   "cell_type": "code",
   "execution_count": 40,
   "id": "29bf9cf3",
   "metadata": {},
   "outputs": [
    {
     "data": {
      "text/plain": [
       "'RADAr'"
      ]
     },
     "execution_count": 40,
     "metadata": {},
     "output_type": "execute_result"
    }
   ],
   "source": [
    "reverse('Radar')"
   ]
  },
  {
   "cell_type": "code",
   "execution_count": 41,
   "id": "c9359fa9",
   "metadata": {},
   "outputs": [],
   "source": [
    "# Q3\n",
    "def first(L):\n",
    "    return L[0]\n",
    "def middle(L):\n",
    "    return L[1:-1]\n",
    "def last(L):\n",
    "    return L[-1]"
   ]
  },
  {
   "cell_type": "code",
   "execution_count": 42,
   "id": "885fbea3",
   "metadata": {},
   "outputs": [],
   "source": [
    "L=[1,2,3,4,5,6]"
   ]
  },
  {
   "cell_type": "code",
   "execution_count": 43,
   "id": "89339371",
   "metadata": {},
   "outputs": [
    {
     "data": {
      "text/plain": [
       "1"
      ]
     },
     "execution_count": 43,
     "metadata": {},
     "output_type": "execute_result"
    }
   ],
   "source": [
    "first(L)"
   ]
  },
  {
   "cell_type": "code",
   "execution_count": 44,
   "id": "8366af49",
   "metadata": {},
   "outputs": [
    {
     "data": {
      "text/plain": [
       "[2, 3, 4, 5]"
      ]
     },
     "execution_count": 44,
     "metadata": {},
     "output_type": "execute_result"
    }
   ],
   "source": [
    "middle(L)"
   ]
  },
  {
   "cell_type": "code",
   "execution_count": 45,
   "id": "b96b5e16",
   "metadata": {},
   "outputs": [
    {
     "data": {
      "text/plain": [
       "6"
      ]
     },
     "execution_count": 45,
     "metadata": {},
     "output_type": "execute_result"
    }
   ],
   "source": [
    "last(L)"
   ]
  },
  {
   "cell_type": "code",
   "execution_count": 63,
   "id": "1a720a3c",
   "metadata": {},
   "outputs": [
    {
     "data": {
      "text/plain": [
       "6"
      ]
     },
     "execution_count": 63,
     "metadata": {},
     "output_type": "execute_result"
    }
   ],
   "source": [
    "# Q4\n",
    "def factorial(x):\n",
    "    f=1\n",
    "    for i in range(1,x+1):\n",
    "        if i==0:\n",
    "            return 1\n",
    "        else:\n",
    "            f=f*i\n",
    "    return f\n",
    "factorial(3)"
   ]
  },
  {
   "cell_type": "code",
   "execution_count": 65,
   "id": "eb26f172",
   "metadata": {},
   "outputs": [
    {
     "data": {
      "text/plain": [
       "120"
      ]
     },
     "execution_count": 65,
     "metadata": {},
     "output_type": "execute_result"
    }
   ],
   "source": [
    "factorial(5)"
   ]
  },
  {
   "cell_type": "code",
   "execution_count": 64,
   "id": "86738e3c",
   "metadata": {},
   "outputs": [
    {
     "data": {
      "text/plain": [
       "1"
      ]
     },
     "execution_count": 64,
     "metadata": {},
     "output_type": "execute_result"
    }
   ],
   "source": [
    "factorial(1)"
   ]
  },
  {
   "cell_type": "code",
   "execution_count": 66,
   "id": "b7bf0a00",
   "metadata": {},
   "outputs": [
    {
     "data": {
      "text/plain": [
       "1"
      ]
     },
     "execution_count": 66,
     "metadata": {},
     "output_type": "execute_result"
    }
   ],
   "source": [
    "factorial(0)"
   ]
  },
  {
   "cell_type": "code",
   "execution_count": 78,
   "id": "e0c32a59",
   "metadata": {},
   "outputs": [
    {
     "data": {
      "text/plain": [
       "[0, 2, 3, 4, 5]"
      ]
     },
     "execution_count": 78,
     "metadata": {},
     "output_type": "execute_result"
    }
   ],
   "source": [
    "# Q5\n",
    "def move_to_end(L,x):\n",
    "    l=[]\n",
    "    for i in range(len(L)):\n",
    "        if i==x:\n",
    "            L.pop(i)\n",
    "        else:\n",
    "            l.append(i)\n",
    "    return l\n",
    "move_to_end([1,3,2,4,4,1],1)"
   ]
  },
  {
   "cell_type": "code",
   "execution_count": null,
   "id": "9200b4e1",
   "metadata": {},
   "outputs": [],
   "source": []
  }
 ],
 "metadata": {
  "kernelspec": {
   "display_name": "Python 3 (ipykernel)",
   "language": "python",
   "name": "python3"
  },
  "language_info": {
   "codemirror_mode": {
    "name": "ipython",
    "version": 3
   },
   "file_extension": ".py",
   "mimetype": "text/x-python",
   "name": "python",
   "nbconvert_exporter": "python",
   "pygments_lexer": "ipython3",
   "version": "3.10.9"
  }
 },
 "nbformat": 4,
 "nbformat_minor": 5
}
